{
  "cells": [
    {
      "metadata": {},
      "cell_type": "markdown",
      "source": "# 3. A Closer Look on the Gravity Module\nMonday, November 5th, 2018<br>\nFelicia Nurindrawati"
    },
    {
      "metadata": {},
      "cell_type": "markdown",
      "source": "## PF Module"
    },
    {
      "metadata": {},
      "cell_type": "markdown",
      "source": "There are actually a lot of different libraries that are contained in the **Potential Fields (PF)** module. This includes: <br>\n\n- ### Gravity Libraries:\n    - **BaseGrav**\n    - **Gravity**\n    - **GravityDriver**\n    - **GravAnalytics**\n\n\n- ### Magnetics Libraries: \n    - **MagAnalytics**\n    - **Magnetics**\n    - **MagneticsDriver**"
    },
    {
      "metadata": {},
      "cell_type": "markdown",
      "source": "For this chapter, let us take a closer look on Gravity libraries. "
    },
    {
      "metadata": {},
      "cell_type": "markdown",
      "source": "## 1. BaseGrav\n(src:https://github.com/simpeg/simpeg/blob/master/SimPEG/PF/BaseGrav.py)"
    },
    {
      "metadata": {},
      "cell_type": "markdown",
      "source": "BaseGrav has inheritance from **Survey** and **Maps** package. <br>\nAll the class in the package: <br>"
    },
    {
      "metadata": {},
      "cell_type": "markdown",
      "source": "**LinearSurvey(Survey.BaseSurvey)**<br>\nThe class inherits from the inputted Survey object and stores the survey as a magnetics survey (interchangable with gravity survey). <br>\nThe documentation has its initializing function to store the sourceField in the object. "
    },
    {
      "metadata": {},
      "cell_type": "markdown",
      "source": "The class has the following attributes: <br>\n- **rxLoc**: <br>Receiver locations. Contains a matrix that contains the location of the receivers in 3D space.\n- **rxType**: <br>Receiver type. Contains the information on how how you define the location in rxLoc (for example, 'CC' is 'cell-centered', and 'N' is nodal)\n\n- **nD**: <br> Returns self.prob.G.shape[0]. Therefore, it returns the number of elements in our data space (N)\n- **rxLoc**: <br> Explained above in the attributes section\n- **nRx**: <br> Number of receivers\n- **Qfx**: <br> Returns the rxLoc matrix interpolated to the \"face\" of the x-plane (there's also **Qfy** and **Qfz** that does this in their respective axes)<br><br>\n- **projectFields(self, u):** <br>Projects the fields onto data space. The documentation describes it as such:<br>\nFirst we project our B on to data location\n$$\\mathbf{B}_{rec} = \\mathbf{P} \\mathbf{B}$$\nThen we take the dot product between $B$ and $B_0$\n$$\\text{TMI} = \\vec{B}_s \\cdot \\hat{B}_0$$\nTMI is the Total Magnetic Intensity. The above mathematical expression seems to be only relevant in a magnetics survey but it doesn't hurt to talk about this method in the Gravity section. The code representation of the above mathematical expression can be written as such: <br>\n```python\ngfx = self.Qfx*u['G']\n```\nThis is equivalent to: <br> *[Insert equation here]*<br>\nAs we can see above, the 'G' from the survey object is multiplied with Qfx to get the matrix projection in the x-axis (?). This is also done to get *gfy* and *gfz*. <br>\nThe method returns a dictionary that pairs up 'gx' with gfx, etc. This is a dictionary of *fields*.\n\n\n\n"
    },
    {
      "metadata": {},
      "cell_type": "markdown",
      "source": "**SrcField(Survey.BaseSrc)**<br>\nAccording to the documentation, it defines the inducing field. As we would not have this in a gravity survey, the attribut **Param** is set to None in this library. It does store the survey to the object as SrcField. "
    },
    {
      "metadata": {},
      "cell_type": "markdown",
      "source": "**RxObs(Survey.BaseRX)**<br>\nThis method cecks if Station location is in 3D to make sure that the survey has the correct dimensional constraint. You can also access the attribute **nD** from here as it returns the number of data in the receivers. "
    },
    {
      "metadata": {},
      "cell_type": "markdown",
      "source": "**BaseGravMap(Maps.IdentityMap)**<br>\n*Need to know what Maps does first, but it seems like it maps the mesh with the survey?*"
    },
    {
      "metadata": {
        "trusted": true
      },
      "cell_type": "code",
      "source": "",
      "execution_count": null,
      "outputs": []
    }
  ],
  "metadata": {
    "kernelspec": {
      "name": "python36",
      "display_name": "Python 3.6",
      "language": "python"
    },
    "language_info": {
      "mimetype": "text/x-python",
      "nbconvert_exporter": "python",
      "name": "python",
      "pygments_lexer": "ipython3",
      "version": "3.6.6",
      "file_extension": ".py",
      "codemirror_mode": {
        "version": 3,
        "name": "ipython"
      }
    }
  },
  "nbformat": 4,
  "nbformat_minor": 1
}